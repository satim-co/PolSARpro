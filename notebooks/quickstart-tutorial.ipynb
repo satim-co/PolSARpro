{
 "cells": [
  {
   "cell_type": "markdown",
   "id": "0056702d",
   "metadata": {},
   "source": [
    "# Quickstart tutorial"
   ]
  },
  {
   "cell_type": "markdown",
   "id": "053cf91e",
   "metadata": {},
   "source": [
    "This tutorial will introduce the basic concepts of this new version of PolSARpro in python.\n",
    "\n",
    "It is important to notice that the toolbox relies on Xarray. Here we only describe the basics required to run PolSARpro and refer the reader to https://docs.xarray.dev/en/stable/ for mode details."
   ]
  },
  {
   "cell_type": "markdown",
   "id": "1df4ba39",
   "metadata": {},
   "source": [
    "## Loading data"
   ]
  },
  {
   "cell_type": "markdown",
   "id": "b2c7b602",
   "metadata": {},
   "source": [
    "First we need to import some data. The demo dataset (TODO: host the data somewhere) has been prepared using SNAP and exported in the NetCDF-BEAM. NetCDF is the format recommended by Xarray as it was used as they share the same data model.\n",
    "\n",
    "Let's first open the data using the `open_netcdf_beam` function."
   ]
  },
  {
   "cell_type": "code",
   "execution_count": null,
   "id": "7245ed40",
   "metadata": {},
   "outputs": [],
   "source": [
    "from polsarpro.io import open_netcdf_beam\n",
    "\n",
    "# change to your data path\n",
    "data_path = \"/data/psp/test_files/SAN_FRANCISCO_ALOS1_slc.nc\"\n",
    "out_path = \"/data/psp/res\"\n",
    "S = open_netcdf_beam(data_path)"
   ]
  },
  {
   "cell_type": "markdown",
   "id": "8b703e35",
   "metadata": {},
   "source": [
    "The variable `S` has been recognized by the reader as a 2x2 Sinclair matrix. It has been imported in a structure called `xarray.Dataset`. \n",
    "In a jupyter notebook it may be inspected as:"
   ]
  },
  {
   "cell_type": "code",
   "execution_count": null,
   "id": "2089c525",
   "metadata": {},
   "outputs": [],
   "source": [
    "S"
   ]
  },
  {
   "cell_type": "markdown",
   "id": "c7a5ff66",
   "metadata": {},
   "source": [
    "Each channel is represented by a data variable and may be accessed using the dot notation:"
   ]
  },
  {
   "cell_type": "code",
   "execution_count": null,
   "id": "067e8d24",
   "metadata": {},
   "outputs": [],
   "source": [
    "# Access to the hh polarization channel\n",
    "S.hh"
   ]
  },
  {
   "cell_type": "markdown",
   "id": "058017ee",
   "metadata": {},
   "source": [
    "Each variable is a dask array which is divided into smaller chunks to be processed in parallel to improve performance.\n",
    "One important thing is that the data is not loaded into memory at this point. This is called lazy loading and allows to execute processing only when the result is required. More on that later.\n",
    "\n",
    "To convert the S matrix to other types, we can use utilities:"
   ]
  },
  {
   "cell_type": "code",
   "execution_count": null,
   "id": "ced6ed3a",
   "metadata": {},
   "outputs": [],
   "source": [
    "from polsarpro.util import S_to_T3\n",
    "\n",
    "T3 = S_to_T3(S)"
   ]
  },
  {
   "cell_type": "markdown",
   "id": "560123e5",
   "metadata": {},
   "source": [
    "Let's now look at this new variable:"
   ]
  },
  {
   "cell_type": "code",
   "execution_count": null,
   "id": "efd30af2",
   "metadata": {},
   "outputs": [],
   "source": [
    "T3"
   ]
  },
  {
   "cell_type": "markdown",
   "id": "d842b60b",
   "metadata": {},
   "source": [
    "The output has been automatically converted to a new polarimetric type `T3` representing the coherency matrix. Now the elements of the matrix are accessed as:"
   ]
  },
  {
   "cell_type": "code",
   "execution_count": null,
   "id": "d743b0cd",
   "metadata": {},
   "outputs": [],
   "source": [
    "T3.m12"
   ]
  },
  {
   "cell_type": "markdown",
   "id": "a5268e0e",
   "metadata": {},
   "source": [
    "For storage optimization, PolSARpro takes advantage of the Hermitian structure of the matrix and stores only diagonal and upper elements."
   ]
  },
  {
   "cell_type": "markdown",
   "id": "f2a36cc4",
   "metadata": {},
   "source": [
    "To ensure its algorithms is applied to valid polarimetric types, PolSARpro looks for a `poltype` attribute, which may be accessed as:"
   ]
  },
  {
   "cell_type": "code",
   "execution_count": null,
   "id": "604b972d",
   "metadata": {},
   "outputs": [],
   "source": [
    "T3.poltype"
   ]
  },
  {
   "cell_type": "markdown",
   "id": "ed33aea3",
   "metadata": {},
   "source": [
    "A human readable description may also be accessed as:"
   ]
  },
  {
   "cell_type": "code",
   "execution_count": null,
   "id": "eb698709",
   "metadata": {},
   "outputs": [],
   "source": [
    "T3.description"
   ]
  },
  {
   "cell_type": "markdown",
   "id": "7ec4664d",
   "metadata": {},
   "source": [
    "To compute the actual result and load the data into memory, one can simply use:"
   ]
  },
  {
   "cell_type": "code",
   "execution_count": null,
   "id": "976d239a",
   "metadata": {},
   "outputs": [],
   "source": [
    "T3 = T3.compute()\n",
    "T3"
   ]
  },
  {
   "cell_type": "markdown",
   "id": "05fe5ccd",
   "metadata": {},
   "source": [
    "Now, each variable is a numpy array stored in memory. This mechanism is useful as it allows to define complex processing pipelines without storing intermediate variables in memory. It is even possible to write the result to disk without storing the whole data in memeory. For instance one may define:"
   ]
  },
  {
   "cell_type": "code",
   "execution_count": null,
   "id": "a3b417f9",
   "metadata": {},
   "outputs": [],
   "source": [
    "from polsarpro.util import boxcar\n",
    "\n",
    "# crop the data using the isel accessor, re-chunk to avoid errors when writing zarr\n",
    "S_crop = S.isel(y=slice(5000, 12000)).chunk(\"auto\")\n",
    "T3 = S_to_T3(S_crop)\n",
    "boxcar(T3, 5, 5).to_zarr(f\"{out_path}/T3_box5x5.zarr\", mode=\"w\", consolidated=False)\n",
    "# az the zarr specification is still evolving, we have to set some parameter to True to silence warnings. "
   ]
  },
  {
   "cell_type": "markdown",
   "id": "a9c1f15c",
   "metadata": {},
   "source": [
    "Now let's apply the H/A/$\\alpha$ decomposition to our $S$ matrix:"
   ]
  },
  {
   "cell_type": "code",
   "execution_count": null,
   "id": "62f28093",
   "metadata": {},
   "outputs": [],
   "source": [
    "from polsarpro.decompositions import h_a_alpha\n",
    "\n",
    "res = h_a_alpha(S_crop, boxcar_size=[5, 5]).compute()"
   ]
  },
  {
   "cell_type": "code",
   "execution_count": null,
   "id": "da5f1d6e",
   "metadata": {},
   "outputs": [],
   "source": [
    "res"
   ]
  },
  {
   "cell_type": "markdown",
   "id": "cf357145",
   "metadata": {},
   "source": [
    "As we can see, the new dataset has a specific poltype and stores the output parameters into labeled variables. As previously they can be accessed via the dot notation e.g. `res.alpha`.\n",
    "We can now plot the outputs either using matplotlib or xarray plotting capabilities:"
   ]
  },
  {
   "cell_type": "code",
   "execution_count": null,
   "id": "1b33770f",
   "metadata": {},
   "outputs": [],
   "source": [
    "res.alpha.plot.imshow()"
   ]
  },
  {
   "cell_type": "code",
   "execution_count": null,
   "id": "2a820f14",
   "metadata": {},
   "outputs": [],
   "source": [
    "res.entropy.plot.imshow()"
   ]
  },
  {
   "cell_type": "code",
   "execution_count": null,
   "id": "4f872fba",
   "metadata": {},
   "outputs": [],
   "source": [
    "res.anisotropy.plot.imshow()"
   ]
  }
 ],
 "metadata": {
  "kernelspec": {
   "display_name": "psp",
   "language": "python",
   "name": "python3"
  },
  "language_info": {
   "codemirror_mode": {
    "name": "ipython",
    "version": 3
   },
   "file_extension": ".py",
   "mimetype": "text/x-python",
   "name": "python",
   "nbconvert_exporter": "python",
   "pygments_lexer": "ipython3",
   "version": "3.12.11"
  }
 },
 "nbformat": 4,
 "nbformat_minor": 5
}
