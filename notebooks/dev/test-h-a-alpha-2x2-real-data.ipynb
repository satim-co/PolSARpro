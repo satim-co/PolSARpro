{
 "cells": [
  {
   "cell_type": "markdown",
   "metadata": {},
   "source": [
    "# H A $\\alpha$ decomposition evaluation\n",
    "\n",
    "In this notebook we compare results of the new implementation of the\n",
    "H A $\\alpha$ decomposition with the C legacy version of PolSARpro.  \n",
    "It assumes the user has a working installation of PolSARpro and has followed the \n",
    "instructions in the README.md file."
   ]
  },
  {
   "cell_type": "code",
   "execution_count": null,
   "metadata": {},
   "outputs": [],
   "source": [
    "%load_ext autoreload\n",
    "%autoreload 2\n",
    "\n",
    "import os\n",
    "# avoid thread conflicts between numpy and dask\n",
    "os.environ[\"OMP_NUM_THREADS\"] = \"1\"\n",
    "os.environ[\"OPENBLAS_NUM_THREADS\"] = \"1\"\n",
    "os.environ[\"MKL_NUM_THREADS\"] = \"1\"\n",
    "os.environ[\"VECLIB_MAXIMUM_THREADS\"] = \"1\"\n",
    "os.environ[\"NUMEXPR_NUM_THREADS\"] = \"1\"\n",
    "\n",
    "from polsarpro.devtools import parse_psp_parameter_string\n",
    "import numpy as np\n",
    "from pathlib import Path\n",
    "import xarray as xr\n",
    "from polsarpro.io import read_psp_bin, read_T3_psp, open_netcdf_beam\n",
    "from polsarpro.util import S_to_C2\n",
    "from polsarpro.decompositions import h_a_alpha\n",
    "import shutil\n",
    "\n",
    "# optional import for progress bar\n",
    "from dask.diagnostics import ProgressBar\n",
    "\n",
    "# change to your local C-PolSARpro install dir\n",
    "c_psp_dir = \"/home/c_psp/Soft/bin/\"\n",
    "os.environ[\"PATH\"]+=os.pathsep+f\"{c_psp_dir}/data_process_sngl/\"\n",
    "os.environ[\"PATH\"]+=os.pathsep+f\"{c_psp_dir}/data_convert/\"\n",
    "\n",
    "# change to your data paths\n",
    "# original dataset\n",
    "input_alos_data = Path(\"/data/psp/test_files/SAN_FRANCISCO_ALOS1_slc.nc\")\n",
    "\n",
    "# input files from C\n",
    "input_test_dir = Path(\"/data/psp/SAN_FRANCISCO_ALOS1/C2\")\n",
    "\n",
    "# output files from C\n",
    "output_test_dir = Path(\"/data/psp/res/h_a_alpha_2x2_c\")"
   ]
  },
  {
   "cell_type": "markdown",
   "metadata": {},
   "source": [
    "## Run the C-version on some test data"
   ]
  },
  {
   "cell_type": "code",
   "execution_count": null,
   "metadata": {},
   "outputs": [],
   "source": [
    "# fl1: alpha, beta, delta, lambda\n",
    "# fl2: lambda\n",
    "# fl3: alpha\n",
    "# fl4: entropy \n",
    "# fl5: anisotropy\n",
    "# fl6-9 combinations\n",
    "\n",
    "input_str= f\"\"\"id: {input_test_dir} \n",
    "od: {output_test_dir}\n",
    "iodf: C2\n",
    "nwr: 7\n",
    "nwc: 7\n",
    "ofr: 0\n",
    "ofc: 0\n",
    "fnr: 18432\n",
    "fnc: 1248\n",
    "fl1: 1\n",
    "fl2: 1\n",
    "fl3: 1\n",
    "fl4: 1\n",
    "fl5: 1\n",
    "fl6: 0\n",
    "fl7: 0\n",
    "fl8: 0\n",
    "fl9: 0\n",
    "errf: /tmp/MemoryAllocError.txt\n",
    "mask: {input_test_dir}/mask_valid_pixels.bin\n",
    "\"\"\"\n",
    "result = parse_psp_parameter_string(input_str)\n",
    "os.system(f\"h_a_alpha_decomposition.exe {result}\")\n",
    "\n",
    "# CPSP does not create another config file in output dir\n",
    "shutil.copy(input_test_dir / \"config.txt\", output_test_dir)"
   ]
  },
  {
   "cell_type": "markdown",
   "metadata": {},
   "source": [
    "## Load ALOS data and C outputs"
   ]
  },
  {
   "cell_type": "code",
   "execution_count": null,
   "metadata": {},
   "outputs": [],
   "source": [
    "# uncomment to test on S matrix made with SNAP\n",
    "S = open_netcdf_beam(input_alos_data)\n",
    "\n",
    "# uncomment to test on T3 matrix made with C-PSP\n",
    "# T3 = read_T3_psp(input_test_dir)\n",
    "\n",
    "# out_names = (\"entropy\", \"anisotropy\", \"alpha\")\n",
    "out_names = (\"entropy\", \"anisotropy\", \"alpha\",  \"delta\", \"lambda\")"
   ]
  },
  {
   "cell_type": "markdown",
   "metadata": {},
   "source": [
    "## Apply the decomposition"
   ]
  },
  {
   "cell_type": "code",
   "execution_count": null,
   "metadata": {},
   "outputs": [],
   "source": [
    "file_out = \"/data/psp/res/test_h_a_alpha.nc\"\n",
    "# netcdf writer cannot overwrite\n",
    "if os.path.isfile(file_out):\n",
    "    os.remove(file_out)\n",
    "\n",
    "with ProgressBar():\n",
    "    # uncomment to compute and store result in the notebook\n",
    "    # out_py = h_a_alpha(S, boxcar_size=[7, 7], flags=out_names).compute()\n",
    "\n",
    "    # uncomment to compute and store result in a file\n",
    "    C2 = S_to_C2(S, p1=\"hh\", p2=\"hv\")\n",
    "    res = h_a_alpha(C2, boxcar_size=[7, 7], flags=out_names).compute()#.to_netcdf(file_out)\n",
    "    \n",
    "    # uncomment to compute and store result in a file (T3 inputs)\n",
    "    # h_a_alpha(T3, boxcar_size=[7, 7], flags=out_names).to_netcdf(file_out)"
   ]
  },
  {
   "cell_type": "markdown",
   "metadata": {},
   "source": [
    "# Numerical evaluation"
   ]
  },
  {
   "cell_type": "code",
   "execution_count": null,
   "metadata": {},
   "outputs": [],
   "source": [
    "# open python output (comment if using compute)\n",
    "# out_py = xr.open_dataset(\"/data/psp/res/test_h_a_alpha.nc\")\n",
    "out_py = res\n",
    "\n",
    "# open C-PolSARPro outputs\n",
    "out_c = {}\n",
    "for name in out_names:\n",
    "    file_name = output_test_dir / f\"{name}.bin\"\n",
    "    out_c[name] = read_psp_bin(file_name)\n",
    "\n",
    "# compare C with python\n",
    "for var in out_names:\n",
    "    var_c =  out_c[var]\n",
    "    var_da = out_py[var]\n",
    "    relerr = np.nanmean(((np.abs(var_da - var_c) / np.abs(var_c + var_da))))\n",
    "    print(f\"Variable {var}\")\n",
    "    print(f\"Relative error between C and python: {relerr}\")"
   ]
  },
  {
   "cell_type": "code",
   "execution_count": null,
   "metadata": {},
   "outputs": [],
   "source": [
    "import matplotlib.pyplot as plt\n",
    "\n",
    "plt.figure(figsize=(10, 10))\n",
    "plt.imshow(abs(out_py.delta[::8]-out_c['delta'][::8])>0.1, interpolation=\"none\")\n",
    "plt.colorbar(fraction=0.046, pad=0.04)\n",
    "\n",
    "plt.figure(figsize=(10, 10))\n",
    "plt.imshow(out_py.delta[::8], interpolation=\"none\")\n",
    "plt.colorbar(fraction=0.046, pad=0.04)\n",
    "\n",
    "plt.figure(figsize=(10, 10))\n",
    "plt.imshow(out_c['delta'][::8], interpolation=\"none\")\n",
    "plt.colorbar(fraction=0.046, pad=0.04)"
   ]
  },
  {
   "cell_type": "code",
   "execution_count": null,
   "metadata": {},
   "outputs": [],
   "source": []
  }
 ],
 "metadata": {
  "kernelspec": {
   "display_name": "psp",
   "language": "python",
   "name": "python3"
  },
  "language_info": {
   "codemirror_mode": {
    "name": "ipython",
    "version": 3
   },
   "file_extension": ".py",
   "mimetype": "text/x-python",
   "name": "python",
   "nbconvert_exporter": "python",
   "pygments_lexer": "ipython3",
   "version": "3.12.11"
  }
 },
 "nbformat": 4,
 "nbformat_minor": 2
}
