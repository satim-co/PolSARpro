{
 "cells": [
  {
   "cell_type": "markdown",
   "metadata": {},
   "source": [
    "# H A $\\alpha$ decomposition evaluation\n",
    "\n",
    "In this notebook we compare results of the new implementation of the\n",
    "H A $\\alpha$ decomposition with the C legacy version of PolSARpro.  \n",
    "It assumes the user has a working installation of PolSARpro and has followed the \n",
    "instructions in the README.md file."
   ]
  },
  {
   "cell_type": "code",
   "execution_count": 1,
   "metadata": {},
   "outputs": [],
   "source": [
    "%load_ext autoreload\n",
    "%autoreload 2\n",
    "\n",
    "import os\n",
    "# avoid thread conflicts between numpy and dask\n",
    "os.environ[\"OMP_NUM_THREADS\"] = \"1\"\n",
    "os.environ[\"OPENBLAS_NUM_THREADS\"] = \"1\"\n",
    "os.environ[\"MKL_NUM_THREADS\"] = \"1\"\n",
    "os.environ[\"VECLIB_MAXIMUM_THREADS\"] = \"1\"\n",
    "os.environ[\"NUMEXPR_NUM_THREADS\"] = \"1\"\n",
    "\n",
    "from polsarpro.devtools import parse_psp_parameter_string\n",
    "import numpy as np\n",
    "from pathlib import Path\n",
    "import xarray as xr\n",
    "from polsarpro.io import read_psp_bin, read_T3_psp, open_netcdf_beam\n",
    "from polsarpro.decompositions import h_a_alpha\n",
    "from polsarpro.util import plot_h_alpha_plane\n",
    "import shutil\n",
    "\n",
    "# optional import for progress bar\n",
    "from dask.diagnostics import ProgressBar\n",
    "\n",
    "# change to your local C-PolSARpro install dir\n",
    "c_psp_dir = \"/home/c_psp/Soft/bin/\"\n",
    "os.environ[\"PATH\"]+=os.pathsep+f\"{c_psp_dir}/data_process_sngl/\"\n",
    "os.environ[\"PATH\"]+=os.pathsep+f\"{c_psp_dir}/data_convert/\"\n",
    "\n",
    "# change to your data paths\n",
    "# original dataset\n",
    "input_alos_data = Path(\"/data/psp/test_files/SAN_FRANCISCO_ALOS1_slc.nc\")\n",
    "\n",
    "# input files from C\n",
    "input_test_dir = Path(\"/data/psp/test_files/input/h_a_alpha_decomposition/\")\n",
    "\n",
    "# output files from C\n",
    "output_test_dir = Path(\"/data/psp/res/h_a_alpha_c\")"
   ]
  },
  {
   "cell_type": "markdown",
   "metadata": {},
   "source": [
    "## Run the C-version on some test data"
   ]
  },
  {
   "cell_type": "code",
   "execution_count": null,
   "metadata": {},
   "outputs": [],
   "source": [
    "# fl1: alpha, beta, delta, lambda\n",
    "# fl2: lambda\n",
    "# fl3: alpha\n",
    "# fl4: entropy \n",
    "# fl5: anisotropy\n",
    "# fl6-9 combinations\n",
    "\n",
    "input_str= f\"\"\"id: {input_test_dir} \n",
    "od: {output_test_dir}\n",
    "iodf: T3\n",
    "nwr: 7\n",
    "nwc: 7\n",
    "ofr: 0\n",
    "ofc: 0\n",
    "fnr: 18432\n",
    "fnc: 1248\n",
    "fl1: 1\n",
    "fl2: 1\n",
    "fl3: 1\n",
    "fl4: 1\n",
    "fl5: 1\n",
    "fl6: 0\n",
    "fl7: 0\n",
    "fl8: 0\n",
    "fl9: 0\n",
    "errf: /tmp/MemoryAllocError.txt\n",
    "mask: {input_test_dir}/mask_valid_pixels.bin\n",
    "\"\"\"\n",
    "result = parse_psp_parameter_string(input_str)\n",
    "os.system(f\"h_a_alpha_decomposition.exe {result}\")\n",
    "\n",
    "# CPSP does not create another config file in output dir\n",
    "shutil.copy(input_test_dir / \"config.txt\", output_test_dir)"
   ]
  },
  {
   "cell_type": "markdown",
   "metadata": {},
   "source": [
    "## Load ALOS data and C outputs"
   ]
  },
  {
   "cell_type": "code",
   "execution_count": 2,
   "metadata": {},
   "outputs": [],
   "source": [
    "# uncomment to test on S matrix made with SNAP\n",
    "S = open_netcdf_beam(input_alos_data)\n",
    "\n",
    "# uncomment to test on T3 matrix made with C-PSP\n",
    "# T3 = read_T3_psp(input_test_dir)\n",
    "\n",
    "out_names = (\"entropy\", \"anisotropy\", \"alpha\", \"beta\", \"delta\", \"gamma\", \"lambda\")"
   ]
  },
  {
   "cell_type": "markdown",
   "metadata": {},
   "source": [
    "## Apply the decomposition"
   ]
  },
  {
   "cell_type": "code",
   "execution_count": 3,
   "metadata": {},
   "outputs": [
    {
     "name": "stdout",
     "output_type": "stream",
     "text": [
      "[########################################] | 100% Completed | 122.54 s\n"
     ]
    }
   ],
   "source": [
    "file_out = \"/data/psp/res/test_h_a_alpha.nc\"\n",
    "# netcdf writer cannot overwrite\n",
    "if os.path.isfile(file_out):\n",
    "    os.remove(file_out)\n",
    "\n",
    "with ProgressBar():\n",
    "    # uncomment to compute and store result in the notebook\n",
    "    # out_py = h_a_alpha(S, boxcar_size=[7, 7], flags=out_names).compute()\n",
    "\n",
    "    # uncomment to compute and store result in a file\n",
    "    h_a_alpha(S, boxcar_size=[7, 7], flags=out_names).to_netcdf(file_out)\n",
    "    \n",
    "    # uncomment to compute and store result in a file (T3 inputs)\n",
    "    # h_a_alpha(T3, boxcar_size=[7, 7], flags=out_names).to_netcdf(file_out)"
   ]
  },
  {
   "cell_type": "markdown",
   "metadata": {},
   "source": [
    "# Numerical evaluation"
   ]
  },
  {
   "cell_type": "code",
   "execution_count": 4,
   "metadata": {},
   "outputs": [
    {
     "name": "stdout",
     "output_type": "stream",
     "text": [
      "Variable entropy\n",
      "Relative error between C and python: 3.913849468517583e-06\n",
      "Variable anisotropy\n",
      "Relative error between C and python: 1.2719746337097604e-05\n",
      "Variable alpha\n",
      "Relative error between C and python: 4.427301973919384e-06\n",
      "Variable beta\n",
      "Relative error between C and python: 6.543330982822226e-06\n",
      "Variable delta\n",
      "Relative error between C and python: 0.003224211512133479\n",
      "Variable gamma\n",
      "Relative error between C and python: 0.0003671989543363452\n",
      "Variable lambda\n",
      "Relative error between C and python: 0.0008872715407051146\n"
     ]
    }
   ],
   "source": [
    "# open python output (comment if using compute)\n",
    "out_py = xr.open_dataset(\"/data/psp/res/test_h_a_alpha.nc\")\n",
    "\n",
    "# open C-PolSARPro outputs\n",
    "out_c = {}\n",
    "for name in out_names:\n",
    "    file_name = output_test_dir / f\"{name}.bin\"\n",
    "    out_c[name] = read_psp_bin(file_name)\n",
    "\n",
    "# compare C with python\n",
    "for var in out_names:\n",
    "    var_c = out_c[var]\n",
    "    var_da = out_py[var]\n",
    "    relerr = np.nanmean(((np.abs(var_da - var_c) / np.abs(var_c + var_da))))\n",
    "    print(f\"Variable {var}\")\n",
    "    print(f\"Relative error between C and python: {relerr}\")"
   ]
  },
  {
   "cell_type": "code",
   "execution_count": 37,
   "metadata": {},
   "outputs": [],
   "source": [
    "# uncomment to test H/Alpha plane histogram\n",
    "# ax, fig = plot_h_alpha_plane(out_py, bins=500, min_pts=2)\n",
    "# fig.savefig(output_test_dir / \"h_a_alpha_plane.png\")"
   ]
  }
 ],
 "metadata": {
  "kernelspec": {
   "display_name": "psp",
   "language": "python",
   "name": "python3"
  },
  "language_info": {
   "codemirror_mode": {
    "name": "ipython",
    "version": 3
   },
   "file_extension": ".py",
   "mimetype": "text/x-python",
   "name": "python",
   "nbconvert_exporter": "python",
   "pygments_lexer": "ipython3",
   "version": "3.12.11"
  }
 },
 "nbformat": 4,
 "nbformat_minor": 2
}
