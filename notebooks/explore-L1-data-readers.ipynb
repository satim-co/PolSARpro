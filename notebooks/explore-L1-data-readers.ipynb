{
 "cells": [
  {
   "cell_type": "markdown",
   "id": "ca47ab77",
   "metadata": {},
   "source": [
    "How to read data and store it in an Xarray?\n",
    "\n",
    "- Try PyroSAR\n",
    "- Try xarray-ceos reader (if pyrosar does not work)\n",
    "- Look for alternatives \n",
    "    - sarpy, reads SLC and sicd\n",
    "    - envi reader (for which data?)\n",
    "\n",
    "- Found out: gdal has a `JAXAPALSAR` driver\n",
    "- We can access the data directly with `rioxarray`"
   ]
  },
  {
   "cell_type": "code",
   "execution_count": null,
   "id": "82844f2c",
   "metadata": {},
   "outputs": [],
   "source": [
    "# TODO: add pyroSAR as dependency if needed\n",
    "# import pyroSAR"
   ]
  },
  {
   "cell_type": "code",
   "execution_count": null,
   "id": "980b844b",
   "metadata": {},
   "outputs": [],
   "source": [
    "import rioxarray as riox\n",
    "import xarray as xr\n",
    "import dask.array as da\n",
    "data_path = \"/data/psp/SAN_FRANCISCO_ALOS1/\""
   ]
  },
  {
   "cell_type": "code",
   "execution_count": null,
   "id": "457c8161",
   "metadata": {},
   "outputs": [],
   "source": [
    "\n",
    "# open with chunks to use dask backend\n",
    "S_elts = riox.open_rasterio(\"/data/psp/SAN_FRANCISCO_ALOS1/VOL-ALPSRP202350750-P1.1__A\", chunks=(4, 1024, 1024)).transpose(\"x\", \"y\", \"band\")\n",
    "S_elts.coords[\"band\"] = [\"HH\", \"HV\", \"VH\", \"VV\"]"
   ]
  },
  {
   "cell_type": "code",
   "execution_count": null,
   "id": "a0428252",
   "metadata": {},
   "outputs": [],
   "source": [
    "S_elts[...,3].mean().compute()"
   ]
  },
  {
   "cell_type": "code",
   "execution_count": null,
   "id": "3db20330",
   "metadata": {},
   "outputs": [],
   "source": [
    "# convert S to C3\n",
    "\n",
    "# coordinates of the Hermitian covariance matrix\n",
    "# we only store the upper part\n",
    "C3_coords = (S_elts.coords[\"y\"], S_elts.coords[\"x\"], [\"11\", \"12\", \"13\", \"22\", \"23\", \"33\"])\n",
    "\n",
    "# scattering vector \n",
    "k_hh = S_elts[:,:,0]\n",
    "k_vv = S_elts[:,:,3]\n",
    "k_hv = 0.5*(S_elts[:,:,1] + S_elts[:,:,2])\n",
    "\n",
    "# compute the cross products\n",
    "C3_elts = []\n",
    "for i, e1 in enumerate([k_hh, k_hv, k_vv]):\n",
    "    for j, e2 in enumerate([k_hh, k_hv, k_vv]):\n",
    "        if j >= i:\n",
    "            C3_elts.append(e1 * e1.conj())\n",
    "\n",
    "# stack elements\n",
    "C3_data = da.stack(C3_elts).T\n",
    "\n",
    "# make a lazy DataArray\n",
    "C3 = xr.DataArray(data=C3_data.rechunk((1024, 1024, 6)), dims = (\"y\", \"x\", \"elt\"), coords=C3_coords, name=\"C3\")"
   ]
  },
  {
   "cell_type": "code",
   "execution_count": null,
   "id": "356ceb67",
   "metadata": {},
   "outputs": [],
   "source": [
    "da.mean(C3[...,1]).compute()"
   ]
  },
  {
   "cell_type": "code",
   "execution_count": null,
   "id": "05b8f8e2",
   "metadata": {},
   "outputs": [],
   "source": [
    "import matplotlib.pyplot as plt\n",
    "plt.figure(figsize=(10, 10))\n",
    "plt.imshow(abs(C3[..., 0]), interpolation=\"none\", vmax=100)\n",
    "plt.colorbar(fraction=0.046, pad=0.04)"
   ]
  }
 ],
 "metadata": {
  "kernelspec": {
   "display_name": "Python 3",
   "language": "python",
   "name": "python3"
  },
  "language_info": {
   "codemirror_mode": {
    "name": "ipython",
    "version": 3
   },
   "file_extension": ".py",
   "mimetype": "text/x-python",
   "name": "python",
   "nbconvert_exporter": "python",
   "pygments_lexer": "ipython3",
   "version": "3.12.9"
  }
 },
 "nbformat": 4,
 "nbformat_minor": 5
}
