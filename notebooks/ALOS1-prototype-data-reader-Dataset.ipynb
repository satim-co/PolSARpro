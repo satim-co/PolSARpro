{
 "cells": [
  {
   "cell_type": "markdown",
   "id": "ca47ab77",
   "metadata": {},
   "source": [
    "### Alternative approach: use datasets instead of data arrays\n",
    "\n",
    "- We can access the raster data directly with `rioxarray`\n",
    "- We need to apply the calibration factor from the metadata\n",
    "\n",
    "We can think about what structure is the best between `xarray.DataSet` and `xarray.DataArray`.\n",
    "- Arrays are more compacts but need to be accessed as `arr.loc[...,\"HH\"]`. Not optimal in size since diagonal elements of the covariance matrix are also stored as complex.\n",
    "- Datasets store several arrays which may be accessed as `ds[\"HH\"]`, we can optimize their size by using real numbers for diagonal elements if the covariance matrix. This will deviate from numpy compatibility and require more re-writing but we have to see in the long terms what are the implications.\n",
    "- Apply multilooking with `coarsen` should work in both cases.\n",
    "- Boxcar will need to be adapted to run on each variable of a dataset. "
   ]
  },
  {
   "cell_type": "code",
   "execution_count": null,
   "id": "980b844b",
   "metadata": {},
   "outputs": [],
   "source": [
    "import rioxarray as riox\n",
    "import xarray as xr\n",
    "import dask.array as da\n",
    "from pathlib import Path\n",
    "import warnings\n",
    "from rasterio.errors import NotGeoreferencedWarning\n",
    "data_path = Path(\"/data/psp/SAN_FRANCISCO_ALOS1\")"
   ]
  },
  {
   "cell_type": "code",
   "execution_count": null,
   "id": "314c1c47",
   "metadata": {},
   "outputs": [],
   "source": [
    "# read metadata to extract the radiometric calibaration factor\n",
    "def extract_calibration_factor(data_path):\n",
    "    from math import sqrt, pow\n",
    "\n",
    "    file_path = data_path / \"ceos_leader.txt\"\n",
    "    with open(file_path, \"r\") as file:\n",
    "        for line in file:\n",
    "            if \"Calibration Factor:\" in line:\n",
    "                parts = line.strip().split()\n",
    "                # Assume the last element is the calibration value\n",
    "                try:\n",
    "                    value = float(parts[-1])\n",
    "                    # dB to linear\n",
    "                    value = sqrt(pow(10.0, (value - 32.0) / 10.0))\n",
    "                    return value\n",
    "                except ValueError(\"Invalid metadata.\"):\n",
    "                    continue\n",
    "    return None\n",
    "\n",
    "\n",
    "calfac = extract_calibration_factor(data_path=data_path)"
   ]
  },
  {
   "cell_type": "code",
   "execution_count": null,
   "id": "7dd6e606",
   "metadata": {},
   "outputs": [],
   "source": [
    "# silence warnings when dataset is in the SAR geometry\n",
    "with warnings.catch_warnings():\n",
    "    warnings.filterwarnings(\"ignore\", category=NotGeoreferencedWarning)\n",
    "    # open with chunks to use dask arrays\n",
    "    S = (\n",
    "        riox.open_rasterio(\n",
    "            data_path / \"VOL-ALPSRP202350750-P1.1__A\",\n",
    "            chunks=(-1, \"auto\", \"auto\"),\n",
    "            band_as_variable=True,\n",
    "        ).rename(band_1=\"hh\", band_2=\"hv\", band_3=\"vh\", band_4=\"vv\")\n",
    "    )\n",
    "# convert digital number to RCS\n",
    "S *= calfac\n",
    "# set polarimetric data type\n",
    "S.attrs = {\"poltype\": \"S\", \"description\": \"Scattering matrix\"}"
   ]
  },
  {
   "cell_type": "code",
   "execution_count": null,
   "id": "8dd20e81",
   "metadata": {},
   "outputs": [],
   "source": [
    "# inspect S\n",
    "S"
   ]
  },
  {
   "cell_type": "code",
   "execution_count": null,
   "id": "b023913b",
   "metadata": {},
   "outputs": [],
   "source": [
    "S.dims"
   ]
  },
  {
   "cell_type": "code",
   "execution_count": null,
   "id": "3db20330",
   "metadata": {},
   "outputs": [],
   "source": [
    "# convert S to C3\n",
    "# coordinates of the Hermitian covariance matrix\n",
    "C3_coords = (S.coords[\"y\"], S.coords[\"x\"])\n",
    "\n",
    "# scattering vector\n",
    "k1 = S.hh\n",
    "k2 = S.vv\n",
    "k3 = 0.5 * (S.hv + S.vh)\n",
    "\n",
    "# compute the cross products, we store only the upper part\n",
    "C3_elts = [\"m11\", \"m12\", \"m13\", \"m22\", \"m23\", \"m33\"]\n",
    "C3_dict = {}\n",
    "\n",
    "C3_dict[\"m11\"] = (k1*k1.conj()).real\n",
    "C3_dict[\"m22\"] = (k2*k2.conj()).real\n",
    "C3_dict[\"m33\"] = (k3*k3.conj()).real\n",
    "\n",
    "C3_dict[\"m12\"] = k1*k2.conj()\n",
    "C3_dict[\"m13\"] = k1*k3.conj()\n",
    "C3_dict[\"m23\"] = k2*k3.conj()\n",
    "\n",
    "C3 = xr.Dataset(C3_dict)"
   ]
  },
  {
   "cell_type": "code",
   "execution_count": null,
   "id": "ef22c0f2",
   "metadata": {},
   "outputs": [],
   "source": [
    "# inspect C3\n",
    "C3"
   ]
  },
  {
   "cell_type": "code",
   "execution_count": null,
   "id": "409588d6",
   "metadata": {},
   "outputs": [],
   "source": [
    "C3.rio.to_raster(\"/tmp/test.tif\")"
   ]
  },
  {
   "cell_type": "code",
   "execution_count": null,
   "id": "65055899",
   "metadata": {},
   "outputs": [],
   "source": [
    "# this returns many warnings, how serious are these?\n",
    "# C3.to_zarr(data_path / \"C3.zarr\", mode=\"w\")\n",
    "\n",
    "# using the previous version works fine, but will it be deprecated?\n",
    "# C3.to_zarr(data_path / \"C3.zarr\", mode=\"w\", zarr_format=2)\n",
    "\n",
    "# try geotiff\n",
    "# with warnings.catch_warnings():\n",
    "#     warnings.filterwarnings(\"ignore\", category=NotGeoreferencedWarning)\n",
    "#     C3.transpose(\"elt\", \"y\", \"x\").rio.to_raster(data_path / \"C3.tif\")"
   ]
  },
  {
   "cell_type": "markdown",
   "id": "e995a704",
   "metadata": {},
   "source": [
    "## Note:\n",
    "- Data files are slightly heavier than the c version  because 11,22 and 33 are stored as complex values.\n",
    "- While using datasets could solve this problem, we could loose the ability to easily process the\n",
    "data as an array."
   ]
  },
  {
   "cell_type": "code",
   "execution_count": null,
   "id": "b07e1248",
   "metadata": {},
   "outputs": [],
   "source": [
    "# multilooking in azimuth\n",
    "C3_mlt = C3.coarsen(y=8).mean()"
   ]
  },
  {
   "cell_type": "code",
   "execution_count": null,
   "id": "05b8f8e2",
   "metadata": {},
   "outputs": [],
   "source": [
    "# plot the data\n",
    "abs(C3_mlt.m33).plot.imshow(interpolation=\"none\", vmax=0.5)"
   ]
  }
 ],
 "metadata": {
  "kernelspec": {
   "display_name": "Python 3",
   "language": "python",
   "name": "python3"
  },
  "language_info": {
   "codemirror_mode": {
    "name": "ipython",
    "version": 3
   },
   "file_extension": ".py",
   "mimetype": "text/x-python",
   "name": "python",
   "nbconvert_exporter": "python",
   "pygments_lexer": "ipython3",
   "version": "3.12.10"
  }
 },
 "nbformat": 4,
 "nbformat_minor": 5
}
