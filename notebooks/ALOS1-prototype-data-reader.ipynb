{
 "cells": [
  {
   "cell_type": "markdown",
   "id": "ca47ab77",
   "metadata": {},
   "source": [
    "- We can access the raster data directly with `rioxarray`\n",
    "- We need to apply the calibration factor from the metadata\n",
    "\n",
    "We can think about what structure is the best between `xarray.DataSet` and `xarray.DataArray`.\n",
    "- Arrays are more compacts but need to be accessed as `arr.loc[...,\"HH\"]`. Not optimal in size since diagonal elements of the covariance matrix are also stored as complex.\n",
    "- Datasets store several arrays which may be accessed as `ds[\"HH\"]`, we can optimize their size by using real numbers for diagonal elements if the covariance matrix. This will deviate from numpy compatibility and require more re-writing but we have to see in the long terms what are the implications.\n",
    "- Apply multilooking with `coarsen` should work in both cases.\n",
    "- Boxcar will need to be adapted to run on each variable of a dataset. "
   ]
  },
  {
   "cell_type": "code",
   "execution_count": null,
   "id": "980b844b",
   "metadata": {},
   "outputs": [],
   "source": [
    "import rioxarray as riox\n",
    "import xarray as xr\n",
    "import dask.array as da\n",
    "from pathlib import Path\n",
    "import warnings\n",
    "from rasterio.errors import NotGeoreferencedWarning\n",
    "data_path = Path(\"/data/psp/SAN_FRANCISCO_ALOS1\")"
   ]
  },
  {
   "cell_type": "code",
   "execution_count": null,
   "id": "314c1c47",
   "metadata": {},
   "outputs": [],
   "source": [
    "# read metadata to extract the radiometric calibaration factor\n",
    "def extract_calibration_factor(data_path):\n",
    "    from math import sqrt, pow\n",
    "\n",
    "    file_path = data_path / \"ceos_leader.txt\"\n",
    "    with open(file_path, \"r\") as file:\n",
    "        for line in file:\n",
    "            if \"Calibration Factor:\" in line:\n",
    "                parts = line.strip().split()\n",
    "                # Assume the last element is the calibration value\n",
    "                try:\n",
    "                    value = float(parts[-1])\n",
    "                    # dB to linear\n",
    "                    value = sqrt(pow(10.0, (value - 32.0) / 10.0))\n",
    "                    return value\n",
    "                except ValueError(\"Invalid metadata.\"):\n",
    "                    continue\n",
    "    return None\n",
    "\n",
    "\n",
    "calfac = extract_calibration_factor(data_path=data_path)"
   ]
  },
  {
   "cell_type": "code",
   "execution_count": null,
   "id": "7dd6e606",
   "metadata": {},
   "outputs": [],
   "source": [
    "# silence warnings when dataset is in the SAR geometry\n",
    "with warnings.catch_warnings():\n",
    "    warnings.filterwarnings(\"ignore\", category=NotGeoreferencedWarning)\n",
    "    # open with chunks to use dask arrays\n",
    "    S = (\n",
    "        riox.open_rasterio(\n",
    "            data_path / \"VOL-ALPSRP202350750-P1.1__A\",\n",
    "            chunks=(-1, \"auto\", \"auto\"),\n",
    "        )\n",
    "        # TODO: benchmark with and without transposition\n",
    "        .transpose(\"x\", \"y\", \"band\").rename({\"x\": \"x\", \"y\": \"y\", \"band\": \"elt\"})\n",
    "    )\n",
    "# convert digital number to RCS\n",
    "S *= calfac\n",
    "# label axes\n",
    "S.coords[\"elt\"] = [\"HH\", \"HV\", \"VH\", \"VV\"]\n",
    "# replace original metadata with descriptive tags\n",
    "S.attrs = {\"poltype\": \"S\", \"description\": \"Scattering matrix\"}"
   ]
  },
  {
   "cell_type": "code",
   "execution_count": null,
   "id": "8dd20e81",
   "metadata": {},
   "outputs": [],
   "source": [
    "# inspect S\n",
    "S"
   ]
  },
  {
   "cell_type": "code",
   "execution_count": null,
   "id": "3db20330",
   "metadata": {},
   "outputs": [],
   "source": [
    "# convert S to C3\n",
    "\n",
    "# coordinates of the Hermitian covariance matrix\n",
    "# we only store the upper part\n",
    "C3_coords = (S.coords[\"y\"], S.coords[\"x\"], [\"11\", \"12\", \"13\", \"22\", \"23\", \"33\"])\n",
    "\n",
    "# scattering vector\n",
    "k_hh = S[:, :, 0]\n",
    "k_vv = S[:, :, 3]\n",
    "k_hv = 0.5 * (S[:, :, 1] + S[:, :, 2])\n",
    "\n",
    "# compute the cross products\n",
    "C3_elts = []\n",
    "for i, e1 in enumerate([k_hh, k_hv, k_vv]):\n",
    "    for j, e2 in enumerate([k_hh, k_hv, k_vv]):\n",
    "        if j >= i:\n",
    "            C3_elts.append(e1 * e2.conj())\n",
    "\n",
    "# stack elements\n",
    "C3_data = da.stack(C3_elts).T\n",
    "\n",
    "# make a lazy DataArray\n",
    "C3 = xr.DataArray(\n",
    "    data=C3_data.rechunk((\"auto\", \"auto\", 6)),\n",
    "    dims=(\"y\", \"x\", \"elt\"),\n",
    "    coords=C3_coords,\n",
    "    name=\"C3\",\n",
    "    attrs={\"poltype\": \"C3\", \"description\": \"Covariance matrix\"},\n",
    ")"
   ]
  },
  {
   "cell_type": "code",
   "execution_count": null,
   "id": "ef22c0f2",
   "metadata": {},
   "outputs": [],
   "source": [
    "# inspect C3\n",
    "C3"
   ]
  },
  {
   "cell_type": "markdown",
   "id": "c364db67",
   "metadata": {},
   "source": [
    "When attempting to write to zarr, several warnings appear  \n",
    "due to some feature not yet being implemented in the specification.\n",
    "\n",
    "```\n",
    "UserWarning: The codec `vlen-utf8` is currently not part in the Zarr format 3 specification. It may not be supported by other zarr implementations and may change in the future.\n",
    "  return cls(**configuration_parsed)\n",
    "UserWarning: The dtype `<U2` is currently not part in the Zarr format 3 specification. It may not be supported by other zarr implementations and may change in the future.\n",
    "  meta = AsyncArray._create_metadata_v3(\n",
    "UserWarning: The codec `vlen-utf8` is currently not part in the Zarr format 3 specification. It may not be supported by other zarr implementations and may change in the future.\n",
    "  return cls(**configuration_parsed)\n",
    "UserWarning: Consolidated metadata is currently not part in the Zarr format 3 specification. It may not be supported by other zarr implementations and may change in the future.\n",
    "  warnings.warn(\n",
    "```\n",
    "\n",
    "**Update:** setting `zarr_format=2` avoids warnings."
   ]
  },
  {
   "cell_type": "code",
   "execution_count": null,
   "id": "65055899",
   "metadata": {},
   "outputs": [],
   "source": [
    "# this returns many warnings, how serious are these?\n",
    "# C3.to_zarr(data_path / \"C3.zarr\", mode=\"w\")\n",
    "\n",
    "# using the previous version works fine, but will it be deprecated?\n",
    "# C3.to_zarr(data_path / \"C3.zarr\", mode=\"w\", zarr_format=2)\n",
    "\n",
    "# try geotiff\n",
    "with warnings.catch_warnings():\n",
    "    warnings.filterwarnings(\"ignore\", category=NotGeoreferencedWarning)\n",
    "    C3.transpose(\"elt\", \"y\", \"x\").rio.to_raster(data_path / \"C3.tif\")"
   ]
  },
  {
   "cell_type": "markdown",
   "id": "e995a704",
   "metadata": {},
   "source": [
    "## Note:\n",
    "- Data files are slightly heavier than the c version  because 11,22 and 33 are stored as complex values.\n",
    "- While using datasets could solve this problem, we could loose the ability to easily process the\n",
    "data as an array."
   ]
  },
  {
   "cell_type": "code",
   "execution_count": null,
   "id": "b07e1248",
   "metadata": {},
   "outputs": [],
   "source": [
    "# multilooking in azimuth\n",
    "C3_mlt = C3.coarsen(y=8).mean()"
   ]
  },
  {
   "cell_type": "code",
   "execution_count": null,
   "id": "05b8f8e2",
   "metadata": {},
   "outputs": [],
   "source": [
    "# plot the data\n",
    "abs(C3_mlt.loc[..., \"33\"]).plot.imshow(interpolation=\"none\", vmax=1)"
   ]
  }
 ],
 "metadata": {
  "kernelspec": {
   "display_name": "Python 3",
   "language": "python",
   "name": "python3"
  },
  "language_info": {
   "codemirror_mode": {
    "name": "ipython",
    "version": 3
   },
   "file_extension": ".py",
   "mimetype": "text/x-python",
   "name": "python",
   "nbconvert_exporter": "python",
   "pygments_lexer": "ipython3",
   "version": "3.12.10"
  }
 },
 "nbformat": 4,
 "nbformat_minor": 5
}
