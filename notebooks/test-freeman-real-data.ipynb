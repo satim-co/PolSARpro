{
 "cells": [
  {
   "cell_type": "markdown",
   "metadata": {},
   "source": [
    "# Freeman decomposition evaluation\n",
    "\n",
    "In this notebook we compare results of the new implementation of the\n",
    "Freeman decomposition with the C legacy version of PolSARpro.  \n",
    "It assumes the user has a working installation of PolSARpro and has followed the \n",
    "instructions in the README.md file.\n",
    "\n",
    "## Scope of the work\n",
    "- Adaptation of the Freeman 3 component decomposition code to a permissive open-source\n",
    "license.\n",
    "- Optimization of the code for pythonic capabilities (e.g., vectorization, parallelization, full\n",
    "use of NumPy).\n",
    "- Removal of any unused code lines to streamline and enhance maintainability"
   ]
  },
  {
   "cell_type": "code",
   "execution_count": null,
   "metadata": {},
   "outputs": [],
   "source": [
    "%load_ext autoreload\n",
    "%autoreload 2\n",
    "import numpy as np\n",
    "from pathlib import Path\n",
    "from polsarpro.io import read_PSP_bin, read_T3\n",
    "from polsarpro.decompositions import freeman, freeman_dask\n",
    "from pathlib import Path\n",
    "import os\n",
    "import matplotlib.pyplot as plt\n",
    "import numpy as np\n",
    "from spectral.io.envi import save_image\n",
    "\n",
    "# change to your local C-PolSARpro install dir\n",
    "c_psp_dir = \"/home/c_psp/Soft/bin/\"\n",
    "os.environ[\"PATH\"]+=os.pathsep+f\"{c_psp_dir}/data_process_sngl/\"\n",
    "os.environ[\"PATH\"]+=os.pathsep+f\"{c_psp_dir}/data_convert/\"\n",
    "\n",
    "# change to your data paths\n",
    "input_test_dir = Path(\"/data/psp/input/freeman_decomposition/\")\n",
    "output_test_dir = Path(\"/data/res/freeman_cpsp\")\n",
    "# output_test_dir = Path(\"/data/psp/output/freeman_decomposition/out\")"
   ]
  },
  {
   "cell_type": "markdown",
   "metadata": {},
   "source": [
    "## Run the C-version on some test data"
   ]
  },
  {
   "cell_type": "code",
   "execution_count": null,
   "metadata": {},
   "outputs": [],
   "source": [
    "from polsarpro.devtools import parse_psp_parameter_string\n",
    "import os\n",
    "\n",
    "input_str = f\"\"\"id: {input_test_dir}\n",
    "od: {output_test_dir}\n",
    "iodf: T3\n",
    "nwr: 7\n",
    "nwc: 7\n",
    "ofr: 0\n",
    "ofc: 0\n",
    "fnr: 18432\n",
    "fnc: 1248\n",
    "errf: /tmp\"\"\"\n",
    "\n",
    "result = parse_psp_parameter_string(input_str)\n",
    "os.system(f\"freeman_decomposition.exe {result}\")"
   ]
  },
  {
   "cell_type": "markdown",
   "metadata": {},
   "source": [
    "## Load T3 coherency matrices and C-PSP Freeman outputs"
   ]
  },
  {
   "cell_type": "code",
   "execution_count": null,
   "metadata": {},
   "outputs": [],
   "source": [
    "T3 = read_T3(input_test_dir)\n",
    "\n",
    "file_odd = output_test_dir / \"Freeman_Odd.bin\"\n",
    "ps_c = read_PSP_bin(file_odd)\n",
    "file_dbl = output_test_dir / \"Freeman_Dbl.bin\"\n",
    "pd_c = read_PSP_bin(file_dbl)\n",
    "file_vol = output_test_dir / \"Freeman_Vol.bin\"\n",
    "pv_c = read_PSP_bin(file_vol)"
   ]
  },
  {
   "cell_type": "markdown",
   "metadata": {},
   "source": [
    "## Apply the dask implementation (multi-thread)"
   ]
  },
  {
   "cell_type": "code",
   "execution_count": null,
   "metadata": {},
   "outputs": [],
   "source": [
    "ps_da, pd_da, pv_da = freeman_dask(T3, \"T3\", boxcar_size=[7, 7])\n",
    "\n",
    "# write outputs\n",
    "save_image(hdr_file=output_test_dir / \"Freeman_Odd_py.hdr\", image=ps_da, force=True)\n",
    "save_image(hdr_file=output_test_dir / \"Freeman_Dbl_py.hdr\", image=pd_da, force=True)\n",
    "save_image(hdr_file=output_test_dir / \"Freeman_Vol_py.hdr\", image=pv_da, force=True)"
   ]
  },
  {
   "cell_type": "markdown",
   "metadata": {},
   "source": [
    "## Apply the numpy implementation (single-thread, only for reference)"
   ]
  },
  {
   "cell_type": "code",
   "execution_count": null,
   "metadata": {},
   "outputs": [],
   "source": [
    "ps, pd, pv = freeman(T3, \"T3\", boxcar_size=[7, 7])"
   ]
  },
  {
   "cell_type": "markdown",
   "metadata": {},
   "source": [
    "## Numeric and visual evaluation"
   ]
  },
  {
   "cell_type": "code",
   "execution_count": null,
   "metadata": {},
   "outputs": [],
   "source": [
    "print(f\"difference between dask and normal implementation for odd {np.abs(ps - ps_da).sum()}, double {np.abs(pd - pd_da).sum()}, and volume {np.abs(pv - pv_da).sum()}\")"
   ]
  },
  {
   "cell_type": "code",
   "execution_count": null,
   "metadata": {},
   "outputs": [],
   "source": [
    "var_name = \"P_v\"\n",
    "var_p = pv_da\n",
    "var_c = pv_c\n",
    "\n",
    "plt.figure(figsize=(10, 10))\n",
    "plt.imshow(var_p[::8][1000:1500], interpolation=\"none\", vmax=1)\n",
    "plt.colorbar(fraction=0.046, pad=0.04)\n",
    "plt.title(f\"${var_name}$ python\")\n",
    "\n",
    "plt.figure(figsize=(10, 10))\n",
    "plt.imshow(var_c[::8][1000:1500], interpolation=\"none\", vmax=1)\n",
    "plt.colorbar(fraction=0.046, pad=0.04)\n",
    "plt.title(f\"${var_name}$ C\")\n",
    "\n",
    "np.nanmean(((np.abs(var_p - var_c) / np.abs(var_c))))"
   ]
  },
  {
   "cell_type": "code",
   "execution_count": null,
   "metadata": {},
   "outputs": [],
   "source": [
    "var_name = \"P_s\"\n",
    "var_p = ps_da\n",
    "var_c = ps_c\n",
    "\n",
    "plt.figure(figsize=(10, 10))\n",
    "plt.imshow(var_p[::8][1000:1500], interpolation=\"none\", vmax=1)\n",
    "plt.colorbar(fraction=0.046, pad=0.04)\n",
    "plt.title(f\"${var_name}$ python\")\n",
    "\n",
    "plt.figure(figsize=(10, 10))\n",
    "plt.imshow(var_c[::8][1000:1500], interpolation=\"none\", vmax=1)\n",
    "plt.colorbar(fraction=0.046, pad=0.04)\n",
    "plt.title(f\"${var_name}$ C\")\n",
    "\n",
    "np.nanmean(((np.abs(var_p - var_c) / np.abs(var_c))))"
   ]
  },
  {
   "cell_type": "code",
   "execution_count": null,
   "metadata": {},
   "outputs": [],
   "source": [
    "var_name = \"P_d\"\n",
    "var_p = pd_da\n",
    "var_c = pd_c\n",
    "\n",
    "plt.figure(figsize=(10, 10))\n",
    "plt.imshow(var_p[::8][1000:1500], interpolation=\"none\", vmin=0, vmax=1)\n",
    "plt.colorbar(fraction=0.046, pad=0.04)\n",
    "plt.title(f\"${var_name}$ python\")\n",
    "\n",
    "plt.figure(figsize=(10, 10))\n",
    "plt.imshow(var_c[::8][1000:1500], interpolation=\"none\", vmax=1)\n",
    "plt.colorbar(fraction=0.046, pad=0.04)\n",
    "plt.title(f\"${var_name}$ C\")\n",
    "\n",
    "np.nanmean(((np.abs(var_p - var_c) / np.abs(var_c))))"
   ]
  }
 ],
 "metadata": {
  "kernelspec": {
   "display_name": "Python 3",
   "language": "python",
   "name": "python3"
  },
  "language_info": {
   "codemirror_mode": {
    "name": "ipython",
    "version": 3
   },
   "file_extension": ".py",
   "mimetype": "text/x-python",
   "name": "python",
   "nbconvert_exporter": "python",
   "pygments_lexer": "ipython3",
   "version": "3.12.10"
  }
 },
 "nbformat": 4,
 "nbformat_minor": 2
}
