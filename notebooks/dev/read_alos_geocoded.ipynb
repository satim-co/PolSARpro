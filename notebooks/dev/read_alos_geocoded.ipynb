{
 "cells": [
  {
   "cell_type": "code",
   "execution_count": null,
   "id": "9af3d151",
   "metadata": {},
   "outputs": [],
   "source": [
    "%load_ext autoreload\n",
    "%autoreload 2\n",
    "import os\n",
    "\n",
    "import numpy as np\n",
    "from pathlib import Path\n",
    "from polsarpro.io import read_PSP_bin, read_T3\n",
    "from polsarpro.decompositions import h_a_alpha, h_a_alpha_dask\n",
    "from pathlib import Path\n",
    "import numpy as np\n",
    "from spectral.io.envi import save_image\n",
    "\n",
    "import rioxarray as riox\n",
    "\n",
    "# change to your local C-PolSARpro install dir\n",
    "c_psp_dir = \"/home/c_psp/Soft/bin/\"\n",
    "os.environ[\"PATH\"]+=os.pathsep+f\"{c_psp_dir}/data_process_sngl/\"\n",
    "os.environ[\"PATH\"]+=os.pathsep+f\"{c_psp_dir}/data_convert/\"\n",
    "\n",
    "# change to your data paths\n",
    "# input_test_dir = Path(\"/data/psp/input/h_a_alpha_decomposition/\")\n",
    "input_test_dir = Path(\"/data/psp/test_files/\")\n",
    "# output_test_dir = Path(\"/data/res/freeman_cpsp\")\n",
    "# output_test_dir = Path(\"/data/res/h_a_alpha_cpsp\")\n",
    "# output_test_dir = Path(\"/data/psp/output/freeman_decomposition/out\")\n",
    "\n",
    "import xarray as xr"
   ]
  },
  {
   "cell_type": "code",
   "execution_count": null,
   "id": "8aa591c5",
   "metadata": {},
   "outputs": [],
   "source": [
    "arr = riox.open_rasterio(Path(input_test_dir) / \"ALOS-P1_1__A-ORBIT__ALPSRP202350750_Cal_mat_ML_TC.tif\")"
   ]
  },
  {
   "cell_type": "code",
   "execution_count": null,
   "id": "0ec2374c",
   "metadata": {},
   "outputs": [],
   "source": [
    "arr2 = xr.open_dataset(Path(input_test_dir) / \"ALOS-P1_1__A-ORBIT__ALPSRP202350750_Cal_mat_ML_TC_cf.nc\")"
   ]
  },
  {
   "cell_type": "code",
   "execution_count": null,
   "id": "825a4836",
   "metadata": {},
   "outputs": [],
   "source": [
    "arr2.T11.plot.imshow(cmap=\"grey\",vmin=0, vmax=1)"
   ]
  },
  {
   "cell_type": "code",
   "execution_count": null,
   "id": "c9b5e0c1",
   "metadata": {},
   "outputs": [],
   "source": []
  }
 ],
 "metadata": {
  "kernelspec": {
   "display_name": "psp",
   "language": "python",
   "name": "python3"
  },
  "language_info": {
   "codemirror_mode": {
    "name": "ipython",
    "version": 3
   },
   "file_extension": ".py",
   "mimetype": "text/x-python",
   "name": "python",
   "nbconvert_exporter": "python",
   "pygments_lexer": "ipython3",
   "version": "3.12.11"
  }
 },
 "nbformat": 4,
 "nbformat_minor": 5
}
