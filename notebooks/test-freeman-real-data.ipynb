{
 "cells": [
  {
   "cell_type": "code",
   "execution_count": null,
   "metadata": {},
   "outputs": [],
   "source": [
    "%load_ext autoreload\n",
    "%autoreload 2\n",
    "import numpy as np\n",
    "from pathlib import Path\n",
    "from polsarpro.util import read_PSP_bin, read_T3\n",
    "from polsarpro.decompositions import freeman, freeman_dask\n",
    "from pathlib import Path\n",
    "import os\n",
    "import matplotlib.pyplot as plt\n",
    "import numpy as np\n",
    "\n",
    "# access c-psp bin files\n",
    "os.environ[\"PATH\"]+=os.pathsep+\"/home/c_psp/Soft/bin/data_process_sngl/\"\n",
    "os.environ[\"PATH\"]+=os.pathsep+\"/home/c_psp/Soft/bin/data_convert/\"\n",
    "input_test_dir = Path(\"/data/psp/input/freeman_decomposition/\")\n",
    "\n",
    "# output_test_dir = Path(\"/data/psp/output/freeman_decomposition/out\")\n",
    "output_test_dir = Path(\"/data/res/freeman_cpsp\")\n"
   ]
  },
  {
   "cell_type": "code",
   "execution_count": null,
   "metadata": {},
   "outputs": [],
   "source": [
    "from polsarpro.devtools import parse_psp_parameter_string\n",
    "import os\n",
    "\n",
    "input_str = f\"\"\"id: {input_test_dir}\n",
    "od: /data/res/freeman_cpsp\n",
    "iodf: T3\n",
    "nwr: 7\n",
    "nwc: 7\n",
    "ofr: 0\n",
    "ofc: 0\n",
    "fnr: 18432\n",
    "fnc: 1248\n",
    "errf: /tmp\"\"\"\n",
    "\n",
    "result = parse_psp_parameter_string(input_str)\n",
    "# os.system(f\"freeman_decomposition.exe {result}\")\n",
    "# 44s"
   ]
  },
  {
   "cell_type": "code",
   "execution_count": null,
   "metadata": {},
   "outputs": [],
   "source": [
    "T3 = read_T3(input_test_dir)\n",
    "\n",
    "file_odd = output_test_dir / \"Freeman_Odd.bin\"\n",
    "ps_c = read_PSP_bin(file_odd)\n",
    "file_dbl = output_test_dir / \"Freeman_Dbl.bin\"\n",
    "pd_c = read_PSP_bin(file_dbl)\n",
    "file_vol = output_test_dir / \"Freeman_Vol.bin\"\n",
    "pv_c = read_PSP_bin(file_vol)"
   ]
  },
  {
   "cell_type": "code",
   "execution_count": null,
   "metadata": {},
   "outputs": [],
   "source": [
    "ps_da, pd_da, pv_da = freeman_dask(T3, \"T3\", boxcar_size=[7, 7])\n",
    "\n",
    "# Function T3_to_C3_dask took 12.1591 seconds\n",
    "# Function boxcar_dask took 13.3408 seconds\n",
    "# Function span took 0.5975 seconds\n",
    "# Function _compute_freeman_components took 6.7740 seconds\n",
    "# Function freeman_dask took 32.2872 seconds"
   ]
  },
  {
   "cell_type": "code",
   "execution_count": null,
   "metadata": {},
   "outputs": [],
   "source": [
    "ps, pd, pv = freeman(T3, \"T3\", boxcar_size=[7, 7])\n",
    "\n",
    "# Function T3_to_C3 took 9.7849 seconds\n",
    "# Function boxcar took 47.6211 seconds\n",
    "# Function span took 1.1133 seconds\n",
    "# Function _compute_freeman_components took 8.1443 seconds\n",
    "# Function freeman took 65.5946 seconds"
   ]
  },
  {
   "cell_type": "code",
   "execution_count": null,
   "metadata": {},
   "outputs": [],
   "source": [
    "print(f\"difference between dask and normal implementation for odd {np.abs(ps - ps_da).sum()}, double {np.abs(pd - pd_da).sum()}, and volume {np.abs(pv - pv_da).sum()}\")"
   ]
  },
  {
   "cell_type": "code",
   "execution_count": null,
   "metadata": {},
   "outputs": [],
   "source": [
    "var_name = \"P_v\"\n",
    "var_p = pv_da\n",
    "var_c = pv_c\n",
    "\n",
    "plt.figure(figsize=(10, 10))\n",
    "plt.imshow(var_p[::8][1000:1500], interpolation=\"none\", vmax=1)\n",
    "plt.colorbar(fraction=0.046, pad=0.04)\n",
    "plt.title(f\"${var_name}$ python\")\n",
    "\n",
    "plt.figure(figsize=(10, 10))\n",
    "plt.imshow(var_c[::8][1000:1500], interpolation=\"none\", vmax=1)\n",
    "plt.colorbar(fraction=0.046, pad=0.04)\n",
    "plt.title(f\"${var_name}$ C\")\n",
    "\n",
    "np.nanmean(((np.abs(var_p - var_c) / np.abs(var_c))))"
   ]
  },
  {
   "cell_type": "code",
   "execution_count": null,
   "metadata": {},
   "outputs": [],
   "source": [
    "var_name = \"P_s\"\n",
    "var_p = ps_da\n",
    "var_c = ps_c\n",
    "\n",
    "plt.figure(figsize=(10, 10))\n",
    "plt.imshow(var_p[::8][1000:1500], interpolation=\"none\", vmax=1)\n",
    "plt.colorbar(fraction=0.046, pad=0.04)\n",
    "plt.title(f\"${var_name}$ python\")\n",
    "\n",
    "plt.figure(figsize=(10, 10))\n",
    "plt.imshow(var_c[::8][1000:1500], interpolation=\"none\", vmax=1)\n",
    "plt.colorbar(fraction=0.046, pad=0.04)\n",
    "plt.title(f\"${var_name}$ C\")\n",
    "\n",
    "np.nanmean(((np.abs(var_p - var_c) / np.abs(var_c))))"
   ]
  },
  {
   "cell_type": "code",
   "execution_count": null,
   "metadata": {},
   "outputs": [],
   "source": [
    "var_name = \"P_d\"\n",
    "var_p = pd_da\n",
    "var_c = pd_c\n",
    "\n",
    "plt.figure(figsize=(10, 10))\n",
    "plt.imshow(var_p[::8][1000:1500], interpolation=\"none\", vmin=0, vmax=1)\n",
    "plt.colorbar(fraction=0.046, pad=0.04)\n",
    "plt.title(f\"${var_name}$ python\")\n",
    "\n",
    "plt.figure(figsize=(10, 10))\n",
    "plt.imshow(var_c[::8][1000:1500], interpolation=\"none\", vmax=1)\n",
    "plt.colorbar(fraction=0.046, pad=0.04)\n",
    "plt.title(f\"${var_name}$ C\")\n",
    "\n",
    "np.nanmean(((np.abs(var_p - var_c) / np.abs(var_c))))"
   ]
  }
 ],
 "metadata": {
  "kernelspec": {
   "display_name": "Python 3",
   "language": "python",
   "name": "python3"
  },
  "language_info": {
   "codemirror_mode": {
    "name": "ipython",
    "version": 3
   },
   "file_extension": ".py",
   "mimetype": "text/x-python",
   "name": "python",
   "nbconvert_exporter": "python",
   "pygments_lexer": "ipython3",
   "version": "3.12.9"
  }
 },
 "nbformat": 4,
 "nbformat_minor": 2
}
