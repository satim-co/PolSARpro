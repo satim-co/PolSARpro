{
 "cells": [
  {
   "cell_type": "code",
   "execution_count": null,
   "id": "71b819eb",
   "metadata": {},
   "outputs": [],
   "source": [
    "from polsarpro.io import read_demo_data\n",
    "from polsarpro.util import S_to_C3_xarray, boxcar_xarray\n",
    "from polsarpro.util import S_to_C3, boxcar\n",
    "from polsarpro.util import S_to_C3_dask, boxcar_dask\n",
    "import numpy as np"
   ]
  },
  {
   "cell_type": "code",
   "execution_count": null,
   "id": "d61c9694",
   "metadata": {},
   "outputs": [],
   "source": [
    "data_dir = \"/data/psp/SAN_FRANCISCO_ALOS1/\"\n",
    "S = read_demo_data(data_dir=data_dir)"
   ]
  },
  {
   "cell_type": "code",
   "execution_count": null,
   "id": "8055df91",
   "metadata": {},
   "outputs": [],
   "source": [
    "# C3 = S_to_C3_xarray(S).compute()\n",
    "C3 = boxcar_xarray(S_to_C3_xarray(S), 7, 7).compute()"
   ]
  },
  {
   "cell_type": "code",
   "execution_count": null,
   "id": "a2158f35",
   "metadata": {},
   "outputs": [],
   "source": [
    "S_np = np.ndarray(S.hh.shape + (2, 2), dtype=S.hh.dtype)\n",
    "S_np[..., 0, 0] = S.hh\n",
    "S_np[..., 0, 1] = S.hv\n",
    "S_np[..., 1, 0] = S.vh\n",
    "S_np[..., 1, 1] = S.vv"
   ]
  },
  {
   "cell_type": "code",
   "execution_count": null,
   "id": "65d2c9a4",
   "metadata": {},
   "outputs": [],
   "source": [
    "C3_np = boxcar_dask(S_to_C3_dask(S_np), 7, 7)"
   ]
  },
  {
   "cell_type": "code",
   "execution_count": null,
   "id": "ce573b5e",
   "metadata": {},
   "outputs": [],
   "source": [
    "abs(C3.m11 - C3_np[..., 0, 0].real).max(), abs(C3.m22 - C3_np[..., 1, 1].real).max(), abs(C3.m33 - C3_np[..., 2, 2].real).max()"
   ]
  },
  {
   "cell_type": "code",
   "execution_count": null,
   "id": "4df0cc57",
   "metadata": {},
   "outputs": [],
   "source": [
    "C3.m11.plot.imshow(vmax=1, figsize=(5, 7))"
   ]
  },
  {
   "cell_type": "code",
   "execution_count": null,
   "id": "e35764ca",
   "metadata": {},
   "outputs": [],
   "source": [
    "C3"
   ]
  }
 ],
 "metadata": {
  "kernelspec": {
   "display_name": "Python 3",
   "language": "python",
   "name": "python3"
  },
  "language_info": {
   "codemirror_mode": {
    "name": "ipython",
    "version": 3
   },
   "file_extension": ".py",
   "mimetype": "text/x-python",
   "name": "python",
   "nbconvert_exporter": "python",
   "pygments_lexer": "ipython3",
   "version": "3.12.10"
  }
 },
 "nbformat": 4,
 "nbformat_minor": 5
}
